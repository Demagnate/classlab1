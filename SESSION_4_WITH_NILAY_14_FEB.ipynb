{
  "nbformat": 4,
  "nbformat_minor": 0,
  "metadata": {
    "colab": {
      "provenance": [],
      "authorship_tag": "ABX9TyM6lzemuQFemNofLh6R4WEY",
      "include_colab_link": true
    },
    "kernelspec": {
      "name": "python3",
      "display_name": "Python 3"
    },
    "language_info": {
      "name": "python"
    }
  },
  "cells": [
    {
      "cell_type": "markdown",
      "metadata": {
        "id": "view-in-github",
        "colab_type": "text"
      },
      "source": [
        "<a href=\"https://colab.research.google.com/github/Demagnate/classlab1/blob/main/SESSION_4_WITH_NILAY_14_FEB.ipynb\" target=\"_parent\"><img src=\"https://colab.research.google.com/assets/colab-badge.svg\" alt=\"Open In Colab\"/></a>"
      ]
    },
    {
      "cell_type": "code",
      "source": [
        "# Recap of the previous topics\n",
        "# Variable work,different data type how to use print statement,type of data type\n",
        "#Programmes involving cal,computation,arithemetic operation,modular operator.\n",
        "# concept of key words,they cannot be used as variable name.\n",
        "# buliding app for coffe shop, bill amount and print result\n",
        "# how input function can be useful"
      ],
      "metadata": {
        "id": "FcAAigSjT7co"
      },
      "execution_count": null,
      "outputs": []
    },
    {
      "cell_type": "code",
      "source": [
        "import keyword\n",
        "print(\"Following is the list of keywords in python\")\n",
        "print(keyword.kwlist)\n",
        "# These keywords cannot be used as varible names"
      ],
      "metadata": {
        "colab": {
          "base_uri": "https://localhost:8080/"
        },
        "id": "zOaX-qGLT7ZO",
        "outputId": "71ade5f8-3776-4845-ce96-88f2d2e750fe"
      },
      "execution_count": 1,
      "outputs": [
        {
          "output_type": "stream",
          "name": "stdout",
          "text": [
            "Following is the list of keywords in python\n",
            "['False', 'None', 'True', 'and', 'as', 'assert', 'async', 'await', 'break', 'class', 'continue', 'def', 'del', 'elif', 'else', 'except', 'finally', 'for', 'from', 'global', 'if', 'import', 'in', 'is', 'lambda', 'nonlocal', 'not', 'or', 'pass', 'raise', 'return', 'try', 'while', 'with', 'yield']\n"
          ]
        }
      ]
    },
    {
      "cell_type": "code",
      "source": [
        "# Billing app for coffee shop\n",
        "# initialize variable\n",
        "unit_price = 8\n",
        "order_count = 10\n",
        "# calculate amount\n",
        "bill_amount = unit_price*order_count\n",
        "# print result\n",
        "print(\"Bill amount is\",bill_amount)"
      ],
      "metadata": {
        "colab": {
          "base_uri": "https://localhost:8080/"
        },
        "id": "4TrflpBwT7TN",
        "outputId": "9aa9e68f-c463-4130-f9cc-792532714dac"
      },
      "execution_count": 2,
      "outputs": [
        {
          "output_type": "stream",
          "name": "stdout",
          "text": [
            "Bill amount is 80\n"
          ]
        }
      ]
    },
    {
      "cell_type": "code",
      "source": [
        "# Billing app for coffee shop\n",
        "# initialize variable\n",
        "unit_price = 8\n",
        "order_count = 10\n",
        "# calculate amount\n",
        "bill_amount = unit_price*order_count\n",
        "# print result\n",
        "print(\"The unit price = N\",unit_price)\n",
        "print(\"The order count =\",order_count)\n",
        "print(\"The bill amount = N\",bill_amount)"
      ],
      "metadata": {
        "colab": {
          "base_uri": "https://localhost:8080/"
        },
        "id": "BGMKIsraT7Pq",
        "outputId": "271020ec-0567-4bdc-e644-c79fc80f56b1"
      },
      "execution_count": 4,
      "outputs": [
        {
          "output_type": "stream",
          "name": "stdout",
          "text": [
            "The unit price = N 8\n",
            "The order count = 10\n",
            "The bill amount = N 80\n"
          ]
        }
      ]
    },
    {
      "cell_type": "code",
      "source": [
        "# We did input function our previous class\n",
        "# TODAY CLASS\n",
        "# TYPES OF VARIABLES\n",
        "'''\n",
        "interger value 1,-1,2...,float values:0.1,2.3,string: name variable:\"raymond\",'''"
      ],
      "metadata": {
        "id": "DG89OQLHT7L5"
      },
      "execution_count": null,
      "outputs": []
    },
    {
      "cell_type": "code",
      "source": [
        "# DATA STRUCTURES\n",
        "# We are going to work on sequential types of data structure\n",
        "''' Data structure:Type of variable that allow to store and process data.\n",
        "It allow to delete and modify\n",
        "A data structure is a specialized way of organizing, storing, and managing data to enable efficient access and modification.\n",
        " It defines the relationships between data elements and provides operations for processing them effectively.\n",
        "\n",
        "Types of Data Structures\n",
        "Linear Data Structures (Elements arranged sequentially)\n",
        "\n",
        "Array: Fixed-size collection of elements of the same type.\n",
        "Linked List: Sequence of nodes, each containing data and a reference to the next node.\n",
        "Stack: Follows LIFO (Last In, First Out) principle.\n",
        "Queue: Follows FIFO (First In, First Out) principle.\n",
        "Non-Linear Data Structures (Elements not in sequence)\n",
        "\n",
        "Tree: Hierarchical structure with nodes (e.g., Binary Tree, Binary Search Tree).\n",
        "Graph: Set of vertices (nodes) connected by edges (e.g., Social Network Graph).\n",
        "Heap: Specialized tree-based structure (e.g., Min-Heap, Max-Heap).\n",
        "Hash-Based Data Structures\n",
        "\n",
        "Hash Table / Hash Map: Uses a hashing function to store key-value pairs.\n",
        "Choosing the Right Data Structure\n",
        "Efficiency: Based on time and space complexity.\n",
        "Operations: Search, insert, delete, etc.\n",
        "Scalability: Suitability for large data handling.'''"
      ],
      "metadata": {
        "id": "Yl76FalFT7Ib"
      },
      "execution_count": null,
      "outputs": []
    },
    {
      "cell_type": "code",
      "source": [
        "# Data structure: string\n",
        "# string is a data type given to a variable if you are storing any text value inside\n",
        "name=\"Raymond\"\n",
        "print(name)"
      ],
      "metadata": {
        "colab": {
          "base_uri": "https://localhost:8080/"
        },
        "id": "ylmUReOgT7Ex",
        "outputId": "d47a4e52-1002-43f9-eab4-f2d497741e4b"
      },
      "execution_count": 5,
      "outputs": [
        {
          "output_type": "stream",
          "name": "stdout",
          "text": [
            "Raymond\n"
          ]
        }
      ]
    },
    {
      "cell_type": "code",
      "source": [
        "second_name='Gorroh'\n",
        "print(second_name)# initializing sring variable with double or single quotes"
      ],
      "metadata": {
        "colab": {
          "base_uri": "https://localhost:8080/"
        },
        "id": "kwHRk5TpT7BV",
        "outputId": "6362474b-aa28-4ac5-81aa-ddb6094ceb62"
      },
      "execution_count": 6,
      "outputs": [
        {
          "output_type": "stream",
          "name": "stdout",
          "text": [
            "Gorroh\n"
          ]
        }
      ]
    },
    {
      "cell_type": "code",
      "source": [
        "full_name=name+\" \"+second_name\n",
        "print(full_name)"
      ],
      "metadata": {
        "colab": {
          "base_uri": "https://localhost:8080/"
        },
        "id": "PaSqBjviZK1e",
        "outputId": "3ac3fea8-b362-4b6c-a76d-8ef430e44f02"
      },
      "execution_count": 7,
      "outputs": [
        {
          "output_type": "stream",
          "name": "stdout",
          "text": [
            "Raymond Gorroh\n"
          ]
        }
      ]
    },
    {
      "cell_type": "code",
      "source": [
        "f_name=input(\"enter your first name \")\n",
        "l_name=input(\"enter your last name \")\n",
        "full_name=f_name+\" \"+l_name\n",
        "print(full_name)"
      ],
      "metadata": {
        "colab": {
          "base_uri": "https://localhost:8080/"
        },
        "id": "hvOztML9ZKxr",
        "outputId": "1e940365-8816-43cc-8e9c-35943e8e6523"
      },
      "execution_count": 8,
      "outputs": [
        {
          "output_type": "stream",
          "name": "stdout",
          "text": [
            "enter your first name Raymond\n",
            "enter your last name Gorroh\n",
            "Raymond Gorroh\n"
          ]
        }
      ]
    },
    {
      "cell_type": "code",
      "source": [
        "name.upper()"
      ],
      "metadata": {
        "colab": {
          "base_uri": "https://localhost:8080/",
          "height": 35
        },
        "id": "wiksxW18ZKq3",
        "outputId": "f90c78c1-37bd-47f3-f75c-6af76b1829be"
      },
      "execution_count": 9,
      "outputs": [
        {
          "output_type": "execute_result",
          "data": {
            "text/plain": [
              "'RAYMOND'"
            ],
            "application/vnd.google.colaboratory.intrinsic+json": {
              "type": "string"
            }
          },
          "metadata": {},
          "execution_count": 9
        }
      ]
    },
    {
      "cell_type": "code",
      "source": [
        "country=\"Nigeria\"\n",
        "country.lower()"
      ],
      "metadata": {
        "colab": {
          "base_uri": "https://localhost:8080/",
          "height": 35
        },
        "id": "CRE5eYb5ZKn4",
        "outputId": "f7e9ed91-7702-447d-e1ba-5ce32095d1a3"
      },
      "execution_count": 10,
      "outputs": [
        {
          "output_type": "execute_result",
          "data": {
            "text/plain": [
              "'nigeria'"
            ],
            "application/vnd.google.colaboratory.intrinsic+json": {
              "type": "string"
            }
          },
          "metadata": {},
          "execution_count": 10
        }
      ]
    },
    {
      "cell_type": "code",
      "source": [
        "country=\"Nigeria\"\n",
        "country.upper()"
      ],
      "metadata": {
        "colab": {
          "base_uri": "https://localhost:8080/",
          "height": 35
        },
        "id": "BNrh51JdZKec",
        "outputId": "7ce3ed67-6f9c-4906-f2f2-caae813130ba"
      },
      "execution_count": 11,
      "outputs": [
        {
          "output_type": "execute_result",
          "data": {
            "text/plain": [
              "'NIGERIA'"
            ],
            "application/vnd.google.colaboratory.intrinsic+json": {
              "type": "string"
            }
          },
          "metadata": {},
          "execution_count": 11
        }
      ]
    },
    {
      "cell_type": "code",
      "source": [
        "len(country)"
      ],
      "metadata": {
        "colab": {
          "base_uri": "https://localhost:8080/"
        },
        "id": "YydGn6_-ZKTJ",
        "outputId": "1f285ec8-88bf-4161-c266-12bfcd708a1c"
      },
      "execution_count": 12,
      "outputs": [
        {
          "output_type": "execute_result",
          "data": {
            "text/plain": [
              "7"
            ]
          },
          "metadata": {},
          "execution_count": 12
        }
      ]
    },
    {
      "cell_type": "code",
      "source": [
        "country=\"Nigeria\"\n",
        "country.find(\"N\")"
      ],
      "metadata": {
        "colab": {
          "base_uri": "https://localhost:8080/"
        },
        "id": "4R9gG3F2a3W7",
        "outputId": "eaf0be5f-a35e-43a2-a795-3ecded566d0d"
      },
      "execution_count": 13,
      "outputs": [
        {
          "output_type": "execute_result",
          "data": {
            "text/plain": [
              "0"
            ]
          },
          "metadata": {},
          "execution_count": 13
        }
      ]
    },
    {
      "cell_type": "code",
      "source": [
        "txt=\"Lagos is the capital of Nigeria. Nigeria is a beautiful country.\"\n",
        "txt.find(\"Nigeria\")"
      ],
      "metadata": {
        "colab": {
          "base_uri": "https://localhost:8080/"
        },
        "id": "39oPshCza3Hq",
        "outputId": "da294c64-f706-4273-bb74-0b019128f4cd"
      },
      "execution_count": 14,
      "outputs": [
        {
          "output_type": "execute_result",
          "data": {
            "text/plain": [
              "24"
            ]
          },
          "metadata": {},
          "execution_count": 14
        }
      ]
    },
    {
      "cell_type": "code",
      "source": [
        "txt=\"Lagos is the capital of Nigeria. Nigeria is a beautiful country.\" #  Replace function\n",
        "txt.replace(\"Nigeria\",\"South Africa\")"
      ],
      "metadata": {
        "colab": {
          "base_uri": "https://localhost:8080/",
          "height": 35
        },
        "id": "tqetBaBIjdHO",
        "outputId": "6223398e-b35f-4052-9ed4-ec52ba483121"
      },
      "execution_count": 20,
      "outputs": [
        {
          "output_type": "execute_result",
          "data": {
            "text/plain": [
              "'Lagos is the capital of South Africa. South Africa is a beautiful country.'"
            ],
            "application/vnd.google.colaboratory.intrinsic+json": {
              "type": "string"
            }
          },
          "metadata": {},
          "execution_count": 20
        }
      ]
    },
    {
      "cell_type": "code",
      "source": [
        "txt=\"Nigeria is a beautiful country.\"\n",
        "txt.replace(\"Nigeria\",\"South Africa\")"
      ],
      "metadata": {
        "colab": {
          "base_uri": "https://localhost:8080/",
          "height": 35
        },
        "id": "eEvqdVtGa3Ei",
        "outputId": "e6932800-b416-4cd3-cc19-a4c4f2972f0a"
      },
      "execution_count": 15,
      "outputs": [
        {
          "output_type": "execute_result",
          "data": {
            "text/plain": [
              "'South Africa is a beautiful country.'"
            ],
            "application/vnd.google.colaboratory.intrinsic+json": {
              "type": "string"
            }
          },
          "metadata": {},
          "execution_count": 15
        }
      ]
    },
    {
      "cell_type": "code",
      "source": [
        "txt=\"nigeria is a beautiful country.\"\n",
        "txt.capitalize()"
      ],
      "metadata": {
        "colab": {
          "base_uri": "https://localhost:8080/",
          "height": 35
        },
        "id": "1if1KFm6a3Bm",
        "outputId": "bcd97bfb-41cc-44ba-ccf7-f01b77acf3aa"
      },
      "execution_count": 16,
      "outputs": [
        {
          "output_type": "execute_result",
          "data": {
            "text/plain": [
              "'Nigeria is a beautiful country.'"
            ],
            "application/vnd.google.colaboratory.intrinsic+json": {
              "type": "string"
            }
          },
          "metadata": {},
          "execution_count": 16
        }
      ]
    },
    {
      "cell_type": "code",
      "source": [
        "type(txt)"
      ],
      "metadata": {
        "colab": {
          "base_uri": "https://localhost:8080/"
        },
        "id": "l_Nd9hsLa2-l",
        "outputId": "9811e928-5af2-4740-f76c-ddfa6abae7b6"
      },
      "execution_count": 17,
      "outputs": [
        {
          "output_type": "execute_result",
          "data": {
            "text/plain": [
              "str"
            ]
          },
          "metadata": {},
          "execution_count": 17
        }
      ]
    },
    {
      "cell_type": "code",
      "source": [
        "# LIST # Why do we need list\n",
        "#init. a list\n",
        "age=[33,44,55,66,11,22,3,45,6]"
      ],
      "metadata": {
        "id": "9c0fJofJa26M"
      },
      "execution_count": 18,
      "outputs": []
    },
    {
      "cell_type": "code",
      "source": [
        "age"
      ],
      "metadata": {
        "colab": {
          "base_uri": "https://localhost:8080/"
        },
        "id": "4qlR48gca22R",
        "outputId": "a7dfea78-d38c-4915-c032-072a8dc038a0"
      },
      "execution_count": 19,
      "outputs": [
        {
          "output_type": "execute_result",
          "data": {
            "text/plain": [
              "[33, 44, 55, 66, 11, 22, 3, 45, 6]"
            ]
          },
          "metadata": {},
          "execution_count": 19
        }
      ]
    },
    {
      "cell_type": "code",
      "source": [
        "txt=\"Lagos is the capital of Nigeria. Nigeria is a beautiful country.\"\n",
        "# casefold function turn every world in the sentence to small letters[]\n",
        "# it is order collection of data,sequential\n",
        "txt.casefold()\n",
        "#print(txt)"
      ],
      "metadata": {
        "colab": {
          "base_uri": "https://localhost:8080/",
          "height": 35
        },
        "id": "wwH-Fj96a2zM",
        "outputId": "cf40c4a7-a672-4666-99d3-9dd9d08f8260"
      },
      "execution_count": 23,
      "outputs": [
        {
          "output_type": "execute_result",
          "data": {
            "text/plain": [
              "'lagos is the capital of nigeria. nigeria is a beautiful country.'"
            ],
            "application/vnd.google.colaboratory.intrinsic+json": {
              "type": "string"
            }
          },
          "metadata": {},
          "execution_count": 23
        }
      ]
    },
    {
      "cell_type": "code",
      "source": [
        "# how to access value or ements in a list using index\n",
        "age=[33,44,55,66,11,22,3,45,6]\n",
        "age[0]"
      ],
      "metadata": {
        "colab": {
          "base_uri": "https://localhost:8080/"
        },
        "id": "oBQjFghfa2wG",
        "outputId": "3bcc258b-7ede-479f-e85d-5d8b1609676d"
      },
      "execution_count": 24,
      "outputs": [
        {
          "output_type": "execute_result",
          "data": {
            "text/plain": [
              "33"
            ]
          },
          "metadata": {},
          "execution_count": 24
        }
      ]
    },
    {
      "cell_type": "code",
      "source": [
        "age[2]"
      ],
      "metadata": {
        "colab": {
          "base_uri": "https://localhost:8080/"
        },
        "id": "l7Ge9XZwa2sy",
        "outputId": "127a16c5-e124-48d3-e405-895e875378cf"
      },
      "execution_count": 25,
      "outputs": [
        {
          "output_type": "execute_result",
          "data": {
            "text/plain": [
              "55"
            ]
          },
          "metadata": {},
          "execution_count": 25
        }
      ]
    },
    {
      "cell_type": "code",
      "source": [
        "age[-1]\n",
        "age[-2]"
      ],
      "metadata": {
        "colab": {
          "base_uri": "https://localhost:8080/"
        },
        "id": "EcpoUs2ya2pi",
        "outputId": "f38e8565-c195-4182-b200-2a40b7287991"
      },
      "execution_count": 26,
      "outputs": [
        {
          "output_type": "execute_result",
          "data": {
            "text/plain": [
              "45"
            ]
          },
          "metadata": {},
          "execution_count": 26
        }
      ]
    },
    {
      "cell_type": "code",
      "execution_count": 27,
      "metadata": {
        "colab": {
          "base_uri": "https://localhost:8080/"
        },
        "id": "XbSBmTAsT5p8",
        "outputId": "b8f6ff67-41ad-4d0c-cf29-466d718f2728"
      },
      "outputs": [
        {
          "output_type": "execute_result",
          "data": {
            "text/plain": [
              "[33, 44, 55, 66, 11, 22, 3, 45, 6]"
            ]
          },
          "metadata": {},
          "execution_count": 27
        }
      ],
      "source": [
        "age # to modify the index no.66"
      ]
    },
    {
      "cell_type": "code",
      "source": [
        "age[3]=61"
      ],
      "metadata": {
        "id": "mBLYxv9gxsv5"
      },
      "execution_count": 28,
      "outputs": []
    },
    {
      "cell_type": "code",
      "source": [
        "age"
      ],
      "metadata": {
        "colab": {
          "base_uri": "https://localhost:8080/"
        },
        "id": "s0IMHh9ix8UB",
        "outputId": "56a0e8e3-175c-4f5d-e42f-498d03b37aac"
      },
      "execution_count": 29,
      "outputs": [
        {
          "output_type": "execute_result",
          "data": {
            "text/plain": [
              "[33, 44, 55, 61, 11, 22, 3, 45, 6]"
            ]
          },
          "metadata": {},
          "execution_count": 29
        }
      ]
    },
    {
      "cell_type": "code",
      "source": [
        "height=[100.4,128.77,188.6,199.32]\n",
        "height"
      ],
      "metadata": {
        "colab": {
          "base_uri": "https://localhost:8080/"
        },
        "id": "cxW3PvMLyDsE",
        "outputId": "ad7fd8a8-3744-4c14-8c83-6d30ae7dea7b"
      },
      "execution_count": 30,
      "outputs": [
        {
          "output_type": "execute_result",
          "data": {
            "text/plain": [
              "[100.4, 128.77, 188.6, 199.32]"
            ]
          },
          "metadata": {},
          "execution_count": 30
        }
      ]
    },
    {
      "cell_type": "code",
      "source": [
        "names=[\"nilay\",\"jacob\", 'ben','doreen']\n",
        "names"
      ],
      "metadata": {
        "colab": {
          "base_uri": "https://localhost:8080/"
        },
        "id": "CiK9MQPTyDiq",
        "outputId": "2495020f-33df-450c-dbf2-97c16ed4478c"
      },
      "execution_count": 31,
      "outputs": [
        {
          "output_type": "execute_result",
          "data": {
            "text/plain": [
              "['nilay', 'jacob', 'ben', 'doreen']"
            ]
          },
          "metadata": {},
          "execution_count": 31
        }
      ]
    },
    {
      "cell_type": "code",
      "source": [
        "person=[\"Raymond\",33,77.4]\n",
        "person"
      ],
      "metadata": {
        "colab": {
          "base_uri": "https://localhost:8080/"
        },
        "id": "rKcdotiEyDZO",
        "outputId": "7c3be7a6-f8d7-4145-bc75-3c707733137d"
      },
      "execution_count": 32,
      "outputs": [
        {
          "output_type": "execute_result",
          "data": {
            "text/plain": [
              "['Raymond', 33, 77.4]"
            ]
          },
          "metadata": {},
          "execution_count": 32
        }
      ]
    },
    {
      "cell_type": "code",
      "source": [
        "print(person[0])"
      ],
      "metadata": {
        "colab": {
          "base_uri": "https://localhost:8080/"
        },
        "id": "nwiX6dv4yDPo",
        "outputId": "658c75ae-f207-410d-e58d-f8f570528f4e"
      },
      "execution_count": 33,
      "outputs": [
        {
          "output_type": "stream",
          "name": "stdout",
          "text": [
            "Raymond\n"
          ]
        }
      ]
    },
    {
      "cell_type": "code",
      "source": [
        "len(person)"
      ],
      "metadata": {
        "colab": {
          "base_uri": "https://localhost:8080/"
        },
        "id": "_jfFCB4hyDFo",
        "outputId": "e0bcdcfa-51ed-4976-fc9f-9ed5ca806f4e"
      },
      "execution_count": 34,
      "outputs": [
        {
          "output_type": "execute_result",
          "data": {
            "text/plain": [
              "3"
            ]
          },
          "metadata": {},
          "execution_count": 34
        }
      ]
    },
    {
      "cell_type": "code",
      "source": [
        "len(age)"
      ],
      "metadata": {
        "colab": {
          "base_uri": "https://localhost:8080/"
        },
        "id": "nsgbVdp2yC8i",
        "outputId": "96b7dc28-343e-4c1d-86e2-d732528d5d17"
      },
      "execution_count": 35,
      "outputs": [
        {
          "output_type": "execute_result",
          "data": {
            "text/plain": [
              "9"
            ]
          },
          "metadata": {},
          "execution_count": 35
        }
      ]
    },
    {
      "cell_type": "code",
      "source": [
        "l=[] # we will cover this in subsequent class\n",
        "for i in range(1,2000):\n",
        "  l.append(i)\n",
        "l\n",
        "i=0\n",
        "while i<len(l):\n",
        "  if l[i]==1555:\n",
        "    print(1555, \"is present at index\",i)\n",
        "  i=i+1"
      ],
      "metadata": {
        "colab": {
          "base_uri": "https://localhost:8080/"
        },
        "id": "2_7n9As6yCnN",
        "outputId": "290a2b8d-fcb1-4ad1-ba7f-0ed9364d6df0"
      },
      "execution_count": 44,
      "outputs": [
        {
          "output_type": "stream",
          "name": "stdout",
          "text": [
            "1555 is present at index 1554\n"
          ]
        }
      ]
    },
    {
      "cell_type": "code",
      "source": [
        "lst=[] # This is an empty list but it is still a variable\n",
        "len(lst)"
      ],
      "metadata": {
        "colab": {
          "base_uri": "https://localhost:8080/"
        },
        "id": "WXBg8x2IyCyg",
        "outputId": "ef8ee947-8d76-42c5-a2c2-17e2149e206b"
      },
      "execution_count": 45,
      "outputs": [
        {
          "output_type": "execute_result",
          "data": {
            "text/plain": [
              "0"
            ]
          },
          "metadata": {},
          "execution_count": 45
        }
      ]
    },
    {
      "cell_type": "code",
      "source": [
        "lst.append(23) # appending value into a list\n",
        "lst"
      ],
      "metadata": {
        "colab": {
          "base_uri": "https://localhost:8080/"
        },
        "id": "Tz1LUNbxyAMO",
        "outputId": "ff9f66e5-4a7c-49b8-8183-ba91ef6d0f33"
      },
      "execution_count": 46,
      "outputs": [
        {
          "output_type": "execute_result",
          "data": {
            "text/plain": [
              "[23]"
            ]
          },
          "metadata": {},
          "execution_count": 46
        }
      ]
    },
    {
      "cell_type": "code",
      "source": [
        "lst.append(13)\n",
        "lst"
      ],
      "metadata": {
        "colab": {
          "base_uri": "https://localhost:8080/"
        },
        "id": "O0Cn_BqA4IAq",
        "outputId": "cf51cf80-6fcc-4d2c-c0ae-79935eb80996"
      },
      "execution_count": 47,
      "outputs": [
        {
          "output_type": "execute_result",
          "data": {
            "text/plain": [
              "[23, 13]"
            ]
          },
          "metadata": {},
          "execution_count": 47
        }
      ]
    },
    {
      "cell_type": "code",
      "source": [
        "#list slicing\n",
        "print(age)"
      ],
      "metadata": {
        "colab": {
          "base_uri": "https://localhost:8080/"
        },
        "id": "K2l-Ole84H8u",
        "outputId": "96906e00-f9b1-4d13-e0b2-4b3aaf564868"
      },
      "execution_count": 48,
      "outputs": [
        {
          "output_type": "stream",
          "name": "stdout",
          "text": [
            "[33, 44, 55, 61, 11, 22, 3, 45, 6]\n"
          ]
        }
      ]
    },
    {
      "cell_type": "code",
      "source": [
        "# T have access to the first four values\n",
        "print(age[0])\n",
        "print(age[1])\n",
        "print(age[2])\n",
        "print(age[3])"
      ],
      "metadata": {
        "colab": {
          "base_uri": "https://localhost:8080/"
        },
        "id": "evd5tt5u4H0t",
        "outputId": "12a034e1-5649-4a4e-9d82-9fbe5c910127"
      },
      "execution_count": 49,
      "outputs": [
        {
          "output_type": "stream",
          "name": "stdout",
          "text": [
            "33\n",
            "44\n",
            "55\n",
            "61\n"
          ]
        }
      ]
    },
    {
      "cell_type": "code",
      "source": [
        "len(age)"
      ],
      "metadata": {
        "colab": {
          "base_uri": "https://localhost:8080/"
        },
        "id": "c1FX2Zzg4HwO",
        "outputId": "73fd4f5d-1c98-4ab2-ef2e-2911c7d206b4"
      },
      "execution_count": 50,
      "outputs": [
        {
          "output_type": "execute_result",
          "data": {
            "text/plain": [
              "9"
            ]
          },
          "metadata": {},
          "execution_count": 50
        }
      ]
    },
    {
      "cell_type": "code",
      "source": [
        "age[0:4] # Getting the index of the first four values"
      ],
      "metadata": {
        "colab": {
          "base_uri": "https://localhost:8080/"
        },
        "id": "AgZfSHb24HsF",
        "outputId": "51d08d30-1a51-44b9-8902-835ccc3a572d"
      },
      "execution_count": 51,
      "outputs": [
        {
          "output_type": "execute_result",
          "data": {
            "text/plain": [
              "[33, 44, 55, 61]"
            ]
          },
          "metadata": {},
          "execution_count": 51
        }
      ]
    },
    {
      "cell_type": "code",
      "source": [
        "age.append(99)\n",
        "age"
      ],
      "metadata": {
        "colab": {
          "base_uri": "https://localhost:8080/"
        },
        "id": "NwSFwY1T4HoF",
        "outputId": "44420b44-bc12-47a1-c15f-f0496845790e"
      },
      "execution_count": 52,
      "outputs": [
        {
          "output_type": "execute_result",
          "data": {
            "text/plain": [
              "[33, 44, 55, 61, 11, 22, 3, 45, 6, 99]"
            ]
          },
          "metadata": {},
          "execution_count": 52
        }
      ]
    },
    {
      "cell_type": "code",
      "source": [
        "age.insert(2,100)# Inserting values,we just inserted 100 in index positon two\n",
        "age"
      ],
      "metadata": {
        "colab": {
          "base_uri": "https://localhost:8080/"
        },
        "id": "1hmfWMF64HjV",
        "outputId": "56cba81e-b8eb-4b1c-a8a1-5f0b8e03ed8a"
      },
      "execution_count": 53,
      "outputs": [
        {
          "output_type": "execute_result",
          "data": {
            "text/plain": [
              "[33, 44, 100, 55, 61, 11, 22, 3, 45, 6, 99]"
            ]
          },
          "metadata": {},
          "execution_count": 53
        }
      ]
    },
    {
      "cell_type": "code",
      "source": [
        "age.remove(100) # Removing values, we just removed 100\n",
        "age"
      ],
      "metadata": {
        "colab": {
          "base_uri": "https://localhost:8080/"
        },
        "id": "uc4yUFgb4HfG",
        "outputId": "d9c0d629-c5cd-4ab3-9dc9-06119fd277d8"
      },
      "execution_count": 54,
      "outputs": [
        {
          "output_type": "execute_result",
          "data": {
            "text/plain": [
              "[33, 44, 55, 61, 11, 22, 3, 45, 6, 99]"
            ]
          },
          "metadata": {},
          "execution_count": 54
        }
      ]
    },
    {
      "cell_type": "code",
      "source": [
        "age.sort() # sorting function arrange values in assending order exept specified"
      ],
      "metadata": {
        "id": "_siCCeD04HbJ"
      },
      "execution_count": 55,
      "outputs": []
    },
    {
      "cell_type": "code",
      "source": [
        "age"
      ],
      "metadata": {
        "colab": {
          "base_uri": "https://localhost:8080/"
        },
        "id": "50xg1zfj4HP0",
        "outputId": "0a2fa101-b241-4fca-db0a-e94624aa57ca"
      },
      "execution_count": 56,
      "outputs": [
        {
          "output_type": "execute_result",
          "data": {
            "text/plain": [
              "[3, 6, 11, 22, 33, 44, 45, 55, 61, 99]"
            ]
          },
          "metadata": {},
          "execution_count": 56
        }
      ]
    },
    {
      "cell_type": "code",
      "source": [
        "#sorting on the descending order\n",
        "age.sort(reverse=True)\n",
        "age"
      ],
      "metadata": {
        "colab": {
          "base_uri": "https://localhost:8080/"
        },
        "id": "gzSUE5T80xtO",
        "outputId": "eda60ff4-dd76-4979-f787-2d9cc73e81bd"
      },
      "execution_count": 57,
      "outputs": [
        {
          "output_type": "execute_result",
          "data": {
            "text/plain": [
              "[99, 61, 55, 45, 44, 33, 22, 11, 6, 3]"
            ]
          },
          "metadata": {},
          "execution_count": 57
        }
      ]
    },
    {
      "cell_type": "code",
      "source": [
        "age[2]=5 # 5 added index position 2\n",
        "age"
      ],
      "metadata": {
        "colab": {
          "base_uri": "https://localhost:8080/"
        },
        "id": "FyR1fANzK6Od",
        "outputId": "f1dab55f-1ebd-4644-8c64-4df6de824c94"
      },
      "execution_count": 58,
      "outputs": [
        {
          "output_type": "execute_result",
          "data": {
            "text/plain": [
              "[99, 61, 5, 45, 44, 33, 22, 11, 6, 3]"
            ]
          },
          "metadata": {},
          "execution_count": 58
        }
      ]
    },
    {
      "cell_type": "code",
      "source": [
        "# TASK : Create a list country initialze the with string values such\n",
        "# Suoth africa,Tanzania,Uganda,Nigeria\n",
        "# Length,insert new country into by appending,remove,replace a country\n",
        "country=[\"South Africa\",\"Tanzania\",\"Uganda\",\"Nigeria\"]\n",
        "country"
      ],
      "metadata": {
        "colab": {
          "base_uri": "https://localhost:8080/"
        },
        "id": "7wmtwjtjLDfH",
        "outputId": "aa93f934-b757-4558-e305-6a7c64c75ddc"
      },
      "execution_count": 59,
      "outputs": [
        {
          "output_type": "execute_result",
          "data": {
            "text/plain": [
              "['South Africa', 'Tanzania', 'Uganda', 'Nigeria']"
            ]
          },
          "metadata": {},
          "execution_count": 59
        }
      ]
    },
    {
      "cell_type": "code",
      "source": [
        "country.insert(2,\"Kenya\")\n",
        "country"
      ],
      "metadata": {
        "colab": {
          "base_uri": "https://localhost:8080/"
        },
        "id": "xNWctUMZLMR9",
        "outputId": "3ac0015f-bd3c-45c7-ead6-0c7da8f797e4"
      },
      "execution_count": 60,
      "outputs": [
        {
          "output_type": "execute_result",
          "data": {
            "text/plain": [
              "['South Africa', 'Tanzania', 'Kenya', 'Uganda', 'Nigeria']"
            ]
          },
          "metadata": {},
          "execution_count": 60
        }
      ]
    },
    {
      "cell_type": "code",
      "source": [
        "country.remove(\"Uganda\")\n",
        "country"
      ],
      "metadata": {
        "colab": {
          "base_uri": "https://localhost:8080/"
        },
        "id": "d0_jHmVzLMNw",
        "outputId": "334938f6-19c0-42b3-a2d1-915334ca6ddf"
      },
      "execution_count": 61,
      "outputs": [
        {
          "output_type": "execute_result",
          "data": {
            "text/plain": [
              "['South Africa', 'Tanzania', 'Kenya', 'Nigeria']"
            ]
          },
          "metadata": {},
          "execution_count": 61
        }
      ]
    },
    {
      "cell_type": "code",
      "source": [
        "country.append(\"Kenya\")\n",
        "country"
      ],
      "metadata": {
        "colab": {
          "base_uri": "https://localhost:8080/"
        },
        "id": "QnmoH8AQLMJR",
        "outputId": "028b48de-850d-4ad0-fc40-890d43d097b8"
      },
      "execution_count": 62,
      "outputs": [
        {
          "output_type": "execute_result",
          "data": {
            "text/plain": [
              "['South Africa', 'Tanzania', 'Kenya', 'Nigeria', 'Kenya']"
            ]
          },
          "metadata": {},
          "execution_count": 62
        }
      ]
    },
    {
      "cell_type": "code",
      "source": [
        "len(country)"
      ],
      "metadata": {
        "colab": {
          "base_uri": "https://localhost:8080/"
        },
        "id": "i8PL9gx8LMFH",
        "outputId": "50f0ac5c-f8ff-4093-edfb-906989352625"
      },
      "execution_count": 63,
      "outputs": [
        {
          "output_type": "execute_result",
          "data": {
            "text/plain": [
              "5"
            ]
          },
          "metadata": {},
          "execution_count": 63
        }
      ]
    },
    {
      "cell_type": "code",
      "source": [
        "# kNOWLEDGE CHECK\n",
        "\n",
        "#What will the following code print?\n",
        "lst = [1, 2, 3, 4, 5]\n",
        "print(lst[2:4])"
      ],
      "metadata": {
        "colab": {
          "base_uri": "https://localhost:8080/"
        },
        "id": "jzTqgW02LMAk",
        "outputId": "1fcd10ab-1cf4-4f08-89ff-493e3fe82803"
      },
      "execution_count": 64,
      "outputs": [
        {
          "output_type": "stream",
          "name": "stdout",
          "text": [
            "[3, 4]\n"
          ]
        }
      ]
    },
    {
      "cell_type": "code",
      "source": [
        "#What is the output of the following code?\n",
        "lst = [1, 2, 3]\n",
        "lst.append([4, 5])\n",
        "print(len(lst))"
      ],
      "metadata": {
        "colab": {
          "base_uri": "https://localhost:8080/"
        },
        "id": "EJCeUDGvLL8j",
        "outputId": "a58ceb72-3fe8-4bc9-ec95-8fe46ada5cf6"
      },
      "execution_count": 65,
      "outputs": [
        {
          "output_type": "stream",
          "name": "stdout",
          "text": [
            "4\n"
          ]
        }
      ]
    },
    {
      "cell_type": "code",
      "source": [
        "#Which of the following methods would you use to convert a string to lowercase in ?"
      ],
      "metadata": {
        "id": "dt9MQEwaLL38"
      },
      "execution_count": null,
      "outputs": []
    },
    {
      "cell_type": "code",
      "source": [
        "#What is the result of the following code snippet?\n",
        "s = \"Hello World\"\n",
        "print(s[6:])"
      ],
      "metadata": {
        "colab": {
          "base_uri": "https://localhost:8080/"
        },
        "id": "2PVyl_X8LL0T",
        "outputId": "95d87803-c1b3-46c5-eb73-454755252f29"
      },
      "execution_count": 66,
      "outputs": [
        {
          "output_type": "stream",
          "name": "stdout",
          "text": [
            "World\n"
          ]
        }
      ]
    },
    {
      "cell_type": "code",
      "source": [
        "#What does the len() function return when applied to a string? NO. OHARACTERS"
      ],
      "metadata": {
        "id": "XewZdJsgLLrv"
      },
      "execution_count": null,
      "outputs": []
    },
    {
      "cell_type": "code",
      "source": [
        "#What is the output of the following code?\n",
        "d = {'a': 1, 'b': 2, 'c': 3}\n",
        "print(d['b'])"
      ],
      "metadata": {
        "colab": {
          "base_uri": "https://localhost:8080/"
        },
        "id": "zZjxWTxwLLn2",
        "outputId": "dfccd7ce-a545-4165-c68d-4fbd4ebed1ee"
      },
      "execution_count": 1,
      "outputs": [
        {
          "output_type": "stream",
          "name": "stdout",
          "text": [
            "2\n"
          ]
        }
      ]
    },
    {
      "cell_type": "code",
      "source": [
        "#What will the following code print? #ERROR\n",
        "t = (1, 2, 3)\n",
        "t[1] = 4"
      ],
      "metadata": {
        "colab": {
          "base_uri": "https://localhost:8080/",
          "height": 176
        },
        "id": "hAtsoj0cLLj7",
        "outputId": "670e5867-aa6d-4cd2-aa59-14fb2fc4d4a7"
      },
      "execution_count": 3,
      "outputs": [
        {
          "output_type": "error",
          "ename": "TypeError",
          "evalue": "'tuple' object does not support item assignment",
          "traceback": [
            "\u001b[0;31m---------------------------------------------------------------------------\u001b[0m",
            "\u001b[0;31mTypeError\u001b[0m                                 Traceback (most recent call last)",
            "\u001b[0;32m<ipython-input-3-fa6877d9974a>\u001b[0m in \u001b[0;36m<cell line: 0>\u001b[0;34m()\u001b[0m\n\u001b[1;32m      1\u001b[0m \u001b[0;31m#What will the following code print?\u001b[0m\u001b[0;34m\u001b[0m\u001b[0;34m\u001b[0m\u001b[0m\n\u001b[1;32m      2\u001b[0m \u001b[0mt\u001b[0m \u001b[0;34m=\u001b[0m \u001b[0;34m(\u001b[0m\u001b[0;36m1\u001b[0m\u001b[0;34m,\u001b[0m \u001b[0;36m2\u001b[0m\u001b[0;34m,\u001b[0m \u001b[0;36m3\u001b[0m\u001b[0;34m)\u001b[0m\u001b[0;34m\u001b[0m\u001b[0;34m\u001b[0m\u001b[0m\n\u001b[0;32m----> 3\u001b[0;31m \u001b[0mt\u001b[0m\u001b[0;34m[\u001b[0m\u001b[0;36m1\u001b[0m\u001b[0;34m]\u001b[0m \u001b[0;34m=\u001b[0m \u001b[0;36m4\u001b[0m\u001b[0;34m\u001b[0m\u001b[0;34m\u001b[0m\u001b[0m\n\u001b[0m",
            "\u001b[0;31mTypeError\u001b[0m: 'tuple' object does not support item assignment"
          ]
        }
      ]
    },
    {
      "cell_type": "code",
      "source": [
        "#What is the key difference between a list and a tuple in Python?\n",
        "''' The key difference between a list and a tuple in Python is mutability:\n",
        "\n",
        "Lists are mutable – You can modify, add, or remove elements after creation.\n",
        "Tuples are immutable – Once created, their elements cannot be changed.'''"
      ],
      "metadata": {
        "id": "WFJQ0NUlLLbG"
      },
      "execution_count": null,
      "outputs": []
    },
    {
      "cell_type": "code",
      "source": [
        "#How can you create a tuple with a single element in Python?\n",
        "single_element_tuple = (42,)  # ✅ Tuple with one element\n",
        "print(type(single_element_tuple))  # Output: <class 'tuple'>\n"
      ],
      "metadata": {
        "id": "F24yagKDLLXF"
      },
      "execution_count": null,
      "outputs": []
    },
    {
      "cell_type": "code",
      "source": [
        "#What is the output of the following code?\n",
        "t = (1, 2, 3)\n",
        "print(t[1])"
      ],
      "metadata": {
        "colab": {
          "base_uri": "https://localhost:8080/"
        },
        "id": "2-HJcaz0LLEc",
        "outputId": "1a8985c5-6ae3-4671-c41e-ebf74feeaa5c"
      },
      "execution_count": 4,
      "outputs": [
        {
          "output_type": "stream",
          "name": "stdout",
          "text": [
            "2\n"
          ]
        }
      ]
    },
    {
      "cell_type": "code",
      "source": [
        "#Wha3t will the following code print?\n",
        " t = (1, 2, 3)\n",
        " t[1] = 4"
      ],
      "metadata": {
        "colab": {
          "base_uri": "https://localhost:8080/",
          "height": 106
        },
        "id": "rWlGT-vLXSSk",
        "outputId": "da64a6a7-b643-4db1-a203-70fa432662e4"
      },
      "execution_count": 5,
      "outputs": [
        {
          "output_type": "error",
          "ename": "IndentationError",
          "evalue": "unexpected indent (<ipython-input-5-8d4d20542f98>, line 2)",
          "traceback": [
            "\u001b[0;36m  File \u001b[0;32m\"<ipython-input-5-8d4d20542f98>\"\u001b[0;36m, line \u001b[0;32m2\u001b[0m\n\u001b[0;31m    t = (1, 2, 3)\u001b[0m\n\u001b[0m    ^\u001b[0m\n\u001b[0;31mIndentationError\u001b[0m\u001b[0;31m:\u001b[0m unexpected indent\n"
          ]
        }
      ]
    },
    {
      "cell_type": "code",
      "source": [
        "#What is the output of the following code?\n",
        "t = (1, 2, 3)\n",
        "print(t[1])"
      ],
      "metadata": {
        "colab": {
          "base_uri": "https://localhost:8080/"
        },
        "id": "JXp40n3zYhLl",
        "outputId": "d0e70ccf-3a11-4a69-d42f-12d2bd0e790f"
      },
      "execution_count": 6,
      "outputs": [
        {
          "output_type": "stream",
          "name": "stdout",
          "text": [
            "2\n"
          ]
        }
      ]
    },
    {
      "cell_type": "code",
      "source": [],
      "metadata": {
        "id": "iu1_WVmrY_4Y"
      },
      "execution_count": null,
      "outputs": []
    }
  ]
}